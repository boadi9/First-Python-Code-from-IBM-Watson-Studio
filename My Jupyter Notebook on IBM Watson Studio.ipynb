{
    "cells": [
        {
            "metadata": {
                "collapsed": true
            },
            "cell_type": "markdown",
            "source": "# My Jupyter Notebook on IBM Watson Studio"
        },
        {
            "metadata": {},
            "cell_type": "markdown",
            "source": "## Stephen Boadi  \n    \n    **Data Scientist (Aspiring)**"
        },
        {
            "metadata": {},
            "cell_type": "markdown",
            "source": "### The following code tests the output of Python codes using assigned variables "
        },
        {
            "metadata": {},
            "cell_type": "code",
            "source": "Name = ('Stephen')\nAge = ('100')\nprint(\"Hello \" +  Name + \"!\")\nprint(\"You are \" + Age + \" years \")",
            "execution_count": 10,
            "outputs": [
                {
                    "output_type": "stream",
                    "text": "Hello Stephen!\nYou are 100 years \n",
                    "name": "stdout"
                }
            ]
        },
        {
            "metadata": {},
            "cell_type": "markdown",
            "source": "**Stephen is good with codes**  ~~Dont tell me He sucks with coding~~  _He is a very smart aspiring data scientist_"
        }
    ],
    "metadata": {
        "kernelspec": {
            "name": "python3",
            "display_name": "Python 3.6",
            "language": "python"
        },
        "language_info": {
            "name": "python",
            "version": "3.6.9",
            "mimetype": "text/x-python",
            "codemirror_mode": {
                "name": "ipython",
                "version": 3
            },
            "pygments_lexer": "ipython3",
            "nbconvert_exporter": "python",
            "file_extension": ".py"
        }
    },
    "nbformat": 4,
    "nbformat_minor": 1
}